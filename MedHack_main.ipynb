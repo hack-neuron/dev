{
 "cells": [
  {
   "cell_type": "code",
   "execution_count": 1,
   "metadata": {},
   "outputs": [],
   "source": [
    "import pandas as pd\n",
    "\n",
    "import numpy as np\n",
    "\n",
    "import os\n",
    "\n",
    "import cv2\n",
    "\n",
    "import seaborn as sns"
   ]
  },
  {
   "cell_type": "code",
   "execution_count": 2,
   "metadata": {},
   "outputs": [
    {
     "name": "stdout",
     "output_type": "stream",
     "text": [
      "Populating the interactive namespace from numpy and matplotlib\n"
     ]
    }
   ],
   "source": [
    "%pylab inline"
   ]
  },
  {
   "cell_type": "markdown",
   "metadata": {},
   "source": [
    "## Грузим данные \n",
    "\n",
    "1. Таблички"
   ]
  },
  {
   "cell_type": "code",
   "execution_count": 3,
   "metadata": {},
   "outputs": [],
   "source": [
    "open_part = pd.read_csv(\"Dataset/OpenPart.csv\")\n",
    "shapes = pd.read_csv(\"Dataset/DX_TEST_RESULT_FULL.csv\")"
   ]
  },
  {
   "cell_type": "code",
   "execution_count": 4,
   "metadata": {},
   "outputs": [
    {
     "data": {
      "text/plain": [
       "[]"
      ]
     },
     "execution_count": 4,
     "metadata": {},
     "output_type": "execute_result"
    },
    {
     "data": {
      "image/png": "[encoded data removed]",
      "text/plain": [
       "<Figure size 1296x720 with 1 Axes>"
      ]
     },
     "metadata": {
      "needs_background": "light"
     },
     "output_type": "display_data"
    }
   ],
   "source": [
    "plt.figure(figsize=(18,10))\n",
    "ind = np.arange(1, 6)\n",
    "plt.bar(ind, open_part[\"Sample 1\"].value_counts(), label=\"Сеть 1\",  width = 0.25)\n",
    "plt.bar(ind + 0.25, open_part[\"Sample 2\"].value_counts(), label=\"Сеть 2\",  width = 0.25)\n",
    "plt.bar(ind + 0.50, open_part[\"Sample 3\"].value_counts(), label=\"Сеть 3\",  width = 0.25)\n",
    "plt.legend(loc=\"upper right\")\n",
    "plt.plot()"
   ]
  },
  {
   "cell_type": "markdown",
   "metadata": {},
   "source": [
    "2. Изображения"
   ]
  },
  {
   "cell_type": "code",
   "execution_count": 31,
   "metadata": {},
   "outputs": [],
   "source": [
    "samples = {}\n",
    "\n",
    "for sample in range(1,4):\n",
    "    temp_names = os.listdir(f\"Dataset/sample_{sample}/\")\n",
    "    img_buffer = []\n",
    "    for img_name in temp_names:\n",
    "        img_buffer.append(cv2.imread(f\"Dataset/sample_{sample}/{img_name}\"))\n",
    "    samples[f\"sample_{sample}\"] = img_buffer"
   ]
  },
  {
   "cell_type": "code",
   "execution_count": 32,
   "metadata": {},
   "outputs": [
    {
     "name": "stdout",
     "output_type": "stream",
     "text": [
      "100 100 100\n"
     ]
    }
   ],
   "source": [
    "print(len(samples[\"sample_1\"]), len(samples[\"sample_2\"]), len(samples[\"sample_3\"]))"
   ]
  },
  {
   "cell_type": "code",
   "execution_count": 33,
   "metadata": {},
   "outputs": [],
   "source": [
    "origin = []\n",
    "\n",
    "temp_names = os.listdir(f\"Dataset/Origin/\")\n",
    "for img_name in temp_names:\n",
    "    origin.append(cv2.imread(f\"Dataset/Origin/{img_name}\"))"
   ]
  },
  {
   "cell_type": "code",
   "execution_count": 34,
   "metadata": {},
   "outputs": [
    {
     "name": "stdout",
     "output_type": "stream",
     "text": [
      "100\n"
     ]
    }
   ],
   "source": [
    "print(len(origin))"
   ]
  },
  {
   "cell_type": "code",
   "execution_count": 37,
   "metadata": {},
   "outputs": [],
   "source": [
    "expert = []\n",
    "\n",
    "temp_names = os.listdir(f\"Dataset/Expert/\")\n",
    "for img_name in temp_names:\n",
    "    expert.append(cv2.imread(f\"Dataset/Expert/{img_name}\"))\n",
    "del temp_names"
   ]
  },
  {
   "cell_type": "code",
   "execution_count": 38,
   "metadata": {},
   "outputs": [
    {
     "name": "stdout",
     "output_type": "stream",
     "text": [
      "100\n"
     ]
    }
   ],
   "source": [
    "print(len(expert))"
   ]
  },
  {
   "cell_type": "markdown",
   "metadata": {},
   "source": [
    "Сопоставляем имена и названия файлов"
   ]
  },
  {
   "cell_type": "code",
   "execution_count": 40,
   "metadata": {},
   "outputs": [
    {
     "name": "stdout",
     "output_type": "stream",
     "text": [
      "Проверка масок, Оригинальных изображений\n",
      "Форма в разметке не совпадает в 0 случаев\n"
     ]
    }
   ],
   "source": [
    "print(\"Проверка масок, Оригинальных изображений\")\n",
    "mismatch = 0\n",
    "\n",
    "for sample in samples.keys():\n",
    "    for img in range(len(samples[sample])):\n",
    "        if samples[sample][img].shape != samples[sample][img].shape:\n",
    "            mismatch += 1\n",
    "            \n",
    "for orig in range(len(origin)):\n",
    "    if origin[orig].shape != origin[0].shape:\n",
    "        mismatch += 1\n",
    "    \n",
    "for exp in range(len(expert)):\n",
    "    if expert[exp].shape != expert[0].shape:\n",
    "        mismatch += 1\n",
    "    \n",
    "print(f\"Форма в разметке не совпадает в {mismatch} случаев\")"
   ]
  },
  {
   "cell_type": "code",
   "execution_count": null,
   "metadata": {},
   "outputs": [],
   "source": []
  }
 ],
 "metadata": {
  "kernelspec": {
   "display_name": "Python 3",
   "language": "python",
   "name": "python3"
  },
  "language_info": {
   "codemirror_mode": {
    "name": "ipython",
    "version": 3
   },
   "file_extension": ".py",
   "mimetype": "text/x-python",
   "name": "python",
   "nbconvert_exporter": "python",
   "pygments_lexer": "ipython3",
   "version": "3.7.6"
  }
 },
 "nbformat": 4,
 "nbformat_minor": 4
}
