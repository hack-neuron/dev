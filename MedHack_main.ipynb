{
 "cells": [
  {
   "cell_type": "code",
   "execution_count": 1,
   "metadata": {},
   "outputs": [],
   "source": [
    "import pandas as pd\n",
    "\n",
    "import numpy as np\n",
    "\n",
    "from numba import cuda\n",
    "\n",
    "import pickle\n",
    "\n",
    "import os\n",
    "\n",
    "import cv2\n",
    "\n",
    "from pycm import ConfusionMatrix\n",
    "\n",
    "import time\n",
    "\n",
    "import lwmw"
   ]
  },
  {
   "cell_type": "code",
   "execution_count": 2,
   "metadata": {},
   "outputs": [
    {
     "name": "stdout",
     "output_type": "stream",
     "text": [
      "Populating the interactive namespace from numpy and matplotlib\n"
     ]
    }
   ],
   "source": [
    "%pylab inline"
   ]
  },
  {
   "cell_type": "markdown",
   "metadata": {},
   "source": [
    "## Грузим данные \n",
    "\n",
    "1. Таблички"
   ]
  },
  {
   "cell_type": "code",
   "execution_count": 4,
   "metadata": {},
   "outputs": [],
   "source": [
    "a = os.listdir(\"Dataset/Origin/\")\n",
    "b = os.listdir(\"Dataset/Expert/\")\n",
    "c = os.listdir(\"Dataset/sample_1/\")\n",
    "d = os.listdir(\"Dataset/sample_2/\")\n",
    "e = os.listdir(\"Dataset/sample_3/\")"
   ]
  },
  {
   "cell_type": "code",
   "execution_count": 3,
   "metadata": {},
   "outputs": [],
   "source": [
    "open_part = pd.read_csv(\"Dataset/OpenPart.csv\")\n",
    "shapes = pd.read_csv(\"Dataset/DX_TEST_RESULT_FULL.csv\")"
   ]
  },
  {
   "cell_type": "code",
   "execution_count": 5,
   "metadata": {},
   "outputs": [],
   "source": [
    "a = [x.split(\"_\")[0] + \"_\" + x.split(\"_\")[1].split(\".\")[0] for x in a]\n",
    "b = [x.split(\"_\")[0] + \"_\" + x.split(\"_\")[1] for x in b]\n",
    "c = [x.split(\"_\")[0] + \"_\" + x.split(\"_\")[1] for x in c]\n",
    "e = [x.split(\"_\")[0] + \"_\" + x.split(\"_\")[1] for x in e]\n",
    "f = [x.split(\"_\")[0] + \"_\" + x.split(\"_\")[1].split(\".\")[0] for x in list(open_part.Case.values)]"
   ]
  },
  {
   "cell_type": "code",
   "execution_count": 6,
   "metadata": {},
   "outputs": [
    {
     "name": "stdout",
     "output_type": "stream",
     "text": [
      "Соотносящихся элементов: 60\n"
     ]
    }
   ],
   "source": [
    "#проверка совпадения имен файлов\n",
    "print(f\"Соотносящихся элементов: {len(list(set(a) & set(b) & set(c) & set(e) & set(f)))}\")"
   ]
  },
  {
   "cell_type": "code",
   "execution_count": 4,
   "metadata": {},
   "outputs": [
    {
     "data": {
      "text/plain": [
       "[]"
      ]
     },
     "execution_count": 4,
     "metadata": {},
     "output_type": "execute_result"
    },
    {
     "data": {
      "image/png": "[encoded data removed]",
      "text/plain": [
       "<Figure size 1296x720 with 1 Axes>"
      ]
     },
     "metadata": {
      "needs_background": "light"
     },
     "output_type": "display_data"
    }
   ],
   "source": [
    "plt.figure(figsize=(18,10))\n",
    "ind = np.arange(1, 6)\n",
    "plt.bar(ind, open_part[\"Sample 1\"].value_counts(), label=\"Сеть 1\",  width = 0.25)\n",
    "plt.bar(ind + 0.25, open_part[\"Sample 2\"].value_counts(), label=\"Сеть 2\",  width = 0.25)\n",
    "plt.bar(ind + 0.50, open_part[\"Sample 3\"].value_counts(), label=\"Сеть 3\",  width = 0.25)\n",
    "plt.legend(loc=\"upper right\")\n",
    "plt.plot()"
   ]
  },
  {
   "cell_type": "markdown",
   "metadata": {},
   "source": [
    "2. Изображения"
   ]
  },
  {
   "cell_type": "code",
   "execution_count": 5,
   "metadata": {},
   "outputs": [],
   "source": [
    "samples = {}\n",
    "\n",
    "for sample in range(1,4):\n",
    "    temp_names = os.listdir(f\"Dataset/sample_{sample}/\")\n",
    "    img_buffer = []\n",
    "    for img_name in temp_names:\n",
    "        img_buffer.append(cv2.imread(f\"Dataset/sample_{sample}/{img_name}\") / 255.0)\n",
    "    samples[f\"sample_{sample}\"] = img_buffer"
   ]
  },
  {
   "cell_type": "code",
   "execution_count": 6,
   "metadata": {},
   "outputs": [
    {
     "name": "stdout",
     "output_type": "stream",
     "text": [
      "100 100 100\n"
     ]
    }
   ],
   "source": [
    "print(len(samples[\"sample_1\"]), len(samples[\"sample_2\"]), len(samples[\"sample_3\"]))"
   ]
  },
  {
   "cell_type": "code",
   "execution_count": 7,
   "metadata": {},
   "outputs": [],
   "source": [
    "origin = []\n",
    "\n",
    "temp_names = os.listdir(f\"Dataset/Origin/\")\n",
    "for img_name in temp_names:\n",
    "    origin.append(cv2.imread(f\"Dataset/Origin/{img_name}\") / 255.0)"
   ]
  },
  {
   "cell_type": "code",
   "execution_count": 8,
   "metadata": {},
   "outputs": [
    {
     "name": "stdout",
     "output_type": "stream",
     "text": [
      "100\n"
     ]
    }
   ],
   "source": [
    "print(len(origin))"
   ]
  },
  {
   "cell_type": "code",
   "execution_count": 9,
   "metadata": {},
   "outputs": [],
   "source": [
    "expert = []\n",
    "\n",
    "temp_names = os.listdir(f\"Dataset/Expert/\")\n",
    "for img_name in temp_names:\n",
    "    expert.append(cv2.imread(f\"Dataset/Expert/{img_name}\") / 255.0)\n",
    "del temp_names"
   ]
  },
  {
   "cell_type": "code",
   "execution_count": 10,
   "metadata": {},
   "outputs": [
    {
     "name": "stdout",
     "output_type": "stream",
     "text": [
      "100\n"
     ]
    }
   ],
   "source": [
    "print(len(expert))"
   ]
  },
  {
   "cell_type": "markdown",
   "metadata": {},
   "source": [
    "Сопоставляем имена и названия файлов"
   ]
  },
  {
   "cell_type": "code",
   "execution_count": 11,
   "metadata": {},
   "outputs": [
    {
     "name": "stdout",
     "output_type": "stream",
     "text": [
      "Проверка масок, Оригинальных изображений\n",
      "Форма в разметке не совпадает в 0 случаев\n"
     ]
    }
   ],
   "source": [
    "print(\"Проверка масок, Оригинальных изображений\")\n",
    "mismatch = 0\n",
    "\n",
    "for sample in samples.keys():\n",
    "    for img in range(len(samples[sample])):\n",
    "        if samples[sample][img].shape != samples[sample][img].shape:\n",
    "            mismatch += 1\n",
    "            \n",
    "for orig in range(len(origin)):\n",
    "    if origin[orig].shape != origin[0].shape:\n",
    "        mismatch += 1\n",
    "    \n",
    "for exp in range(len(expert)):\n",
    "    if expert[exp].shape != expert[0].shape:\n",
    "        mismatch += 1\n",
    "    \n",
    "print(f\"Форма в разметке не совпадает в {mismatch} случаев\")"
   ]
  },
  {
   "cell_type": "markdown",
   "metadata": {},
   "source": [
    "Проверка на \"нулевые\" картинки"
   ]
  },
  {
   "cell_type": "code",
   "execution_count": 14,
   "metadata": {},
   "outputs": [
    {
     "name": "stdout",
     "output_type": "stream",
     "text": [
      "Пустой разметки от эксперта 9\n"
     ]
    }
   ],
   "source": [
    "clear = 0\n",
    "for img in expert:\n",
    "    if img.sum() == 0:\n",
    "        clear += 1\n",
    "print(f\"Пустой разметки от эксперта {clear}\")"
   ]
  },
  {
   "cell_type": "markdown",
   "metadata": {},
   "source": [
    "## == Считаем Метрики =="
   ]
  },
  {
   "cell_type": "code",
   "execution_count": 13,
   "metadata": {},
   "outputs": [],
   "source": [
    "def pixel_accuracy(nn, expert):\n",
    "    return sum(nn * expert) / (sum(expert))\n",
    "\n",
    "def Jaccard(nn, expert):\n",
    "    return sum(nn * expert) / (sum(nn) + sum(expert) - sum(nn * expert))\n",
    "\n",
    "def Sorensen(nn, expert):\n",
    "    return (2 * sum(nn * expert)) / (sum(nn) + sum(expert))\n",
    "\n",
    "def Kulchinski(nn, expert):\n",
    "    return ((sum(nn * expert)) / 2) * (1 / sum(nn) + 1 / sum(expert))\n",
    "\n",
    "def Simpson(nn, expert):\n",
    "    return (2 * sum(nn * expert)) / (sum(nn) + sum(expert) - abs(sum(nn) - sum(expert)))\n",
    "\n",
    "def Braun(nn, expert):\n",
    "    return (2 * sum(nn * expert)) / (sum(nn) + sum(expert) + abs(sum(nn) - sum(expert)))"
   ]
  },
  {
   "cell_type": "code",
   "execution_count": 40,
   "metadata": {},
   "outputs": [
    {
     "name": "stderr",
     "output_type": "stream",
     "text": [
      "/home/gpu/miniconda3/lib/python3.7/site-packages/ipykernel_launcher.py:11: RuntimeWarning: divide by zero encountered in double_scalars\n",
      "  # This is added back by InteractiveShellApp.init_path()\n",
      "/home/gpu/miniconda3/lib/python3.7/site-packages/ipykernel_launcher.py:11: RuntimeWarning: invalid value encountered in double_scalars\n",
      "  # This is added back by InteractiveShellApp.init_path()\n",
      "/home/gpu/miniconda3/lib/python3.7/site-packages/ipykernel_launcher.py:14: RuntimeWarning: invalid value encountered in double_scalars\n",
      "  \n",
      "/home/gpu/miniconda3/lib/python3.7/site-packages/ipykernel_launcher.py:2: RuntimeWarning: invalid value encountered in double_scalars\n",
      "  \n"
     ]
    }
   ],
   "source": [
    "temp_names = os.listdir(\"Dataset/sample_1/\")\n",
    "metrics = pd.DataFrame()\n",
    "for i in range(len(expert)):\n",
    "    temp_overal = ConfusionMatrix(actual_vector=expert[i].ravel(),predict_vector=samples[\"sample_1\"][i].ravel())\n",
    "    temp_metrics = {  \"name\": temp_names[i],\n",
    "                      \"PA\": pixel_accuracy(samples[\"sample_1\"][i], expert[i]),\n",
    "                      \"Jaccard\": Jaccard(samples[\"sample_1\"][i], expert[i]),\n",
    "                      \"Sorensen\": Sorensen(samples[\"sample_1\"][i], expert[i]),\n",
    "                      \"Kulchinski\": Kulchinski(samples[\"sample_1\"][i], expert[i]),\n",
    "                      \"Simpson\": Simpson(samples[\"sample_1\"][i], expert[i]),\n",
    "                      \"Braun_Blanke\": Braun(samples[\"sample_1\"][i], expert[i])\n",
    "                   }\n",
    "    temp_overal = temp_overal.overall_stat\n",
    "    for j in temp_overal.keys():\n",
    "        temp_metrics[j] = temp_overal[j]\n",
    "        \n",
    "    metrics = metrics.append(temp_metrics, ignore_index=True)"
   ]
  },
  {
   "cell_type": "code",
   "execution_count": 41,
   "metadata": {},
   "outputs": [],
   "source": [
    "metrics = metrics.drop(columns=[\"95% CI\", \"P-Value\", \"Kappa 95% CI\", \"Overall J\", \"SOA4(Cicchetti)\", \"SOA1(Landis & Koch)\", \"SOA2(Fleiss)\", \"SOA3(Altman)\", \"SOA4(Cicchetti)\", \"SOA5(Cramer)\", \"SOA6(Matthews)\", \"Zero-one Loss\"])\n",
    "metrics = metrics.replace(to_replace='None', value=np.nan).dropna(axis=\"columns\")"
   ]
  },
  {
   "cell_type": "code",
   "execution_count": 42,
   "metadata": {},
   "outputs": [],
   "source": [
    "metrics.to_csv(\"metrics100.csv\", index=False)"
   ]
  },
  {
   "cell_type": "code",
   "execution_count": 7,
   "metadata": {},
   "outputs": [],
   "source": [
    "metrics = pd.read_csv(\"metrics100.csv\")"
   ]
  },
  {
   "cell_type": "markdown",
   "metadata": {},
   "source": [
    "### Данные для одного эксперта\n",
    "чистим данные и соотносим их с csv"
   ]
  },
  {
   "cell_type": "code",
   "execution_count": 8,
   "metadata": {},
   "outputs": [],
   "source": [
    "string = metrics.name[0].split(\"_\")[0] + \"_\" + metrics.name[0].split(\"_\")[1]\n",
    "expert_index = list(set(metrics.name.str.split(\"_\").str[0] + \"_\" + metrics.name.str.split(\"_\").str[1]) & set(f))\n",
    "metrics.name = metrics.name.str.split(\"_\").str[0] + \"_\" + metrics.name.str.split(\"_\").str[1]\n",
    "metrics = metrics[metrics.name.isin(expert_index)]\n",
    "metrics = metrics.set_index(\"name\")\n",
    "metrics = metrics.sort_index()\n",
    "open_part.Case = open_part.Case.str.split(\"_\").str[0] + \"_\" + open_part.Case.str.split(\"_\").str[1].str.split(\".\").str[0]\n",
    "open_part = open_part.set_index(\"Case\")\n",
    "open_part = open_part.sort_index()\n",
    "metrics[\"expert\"] = open_part[\"Sample 1\"]\n",
    "metrics = metrics.join(pd.get_dummies(metrics['expert']))\n",
    "metrics = metrics.drop(columns=[\"expert\"]).rename(columns={1 : \"mark_1\", 2 : \"mark_2\", 3 : \"mark_3\", 4 : \"mark_4\", 5 : \"mark_5\"})"
   ]
  },
  {
   "cell_type": "markdown",
   "metadata": {},
   "source": [
    "### Картинки уже не нужны -- мы все из них уже получили"
   ]
  },
  {
   "cell_type": "code",
   "execution_count": 185,
   "metadata": {},
   "outputs": [],
   "source": [
    "del samples"
   ]
  },
  {
   "cell_type": "markdown",
   "metadata": {},
   "source": [
    "## Учим сеть"
   ]
  },
  {
   "cell_type": "code",
   "execution_count": 14,
   "metadata": {},
   "outputs": [],
   "source": [
    "settings = {\n",
    "    \"outs\" : 5,\n",
    "    \"input_len\" : len(metrics),\n",
    "    \"architecture\" : [14,9,7],\n",
    "    \"inputs\" : len(metrics.columns) - 5,\n",
    "    \"activation\" : \"sigmoid\",\n",
    "    \"gpu_name\": \"/gpu:1\"\n",
    "}"
   ]
  },
  {
   "cell_type": "code",
   "execution_count": 15,
   "metadata": {},
   "outputs": [
    {
     "name": "stdout",
     "output_type": "stream",
     "text": [
      "=====>Training info<===== \n",
      "\n",
      "Settings: \n",
      "         outs:5\n",
      "         input_len:60\n",
      "         architecture:[14, 9, 2]\n",
      "         inputs:38\n",
      "         activation:sigmoid\n",
      "         gpu_name:/gpu:1\n",
      "\n",
      "tf version:  1.15.0 \n",
      "\n",
      "shape X:\t(60, 38)\n",
      "shape y:\t(60, 5)\n",
      "      m:\t60\n",
      "      p:\t5\n",
      "\n",
      "\n",
      "Complex:\n",
      "        [parameters]x[data lenth]\n",
      "        716x60\n",
      "\n",
      "WARNING:tensorflow:\n",
      "The TensorFlow contrib module will not be included in TensorFlow 2.0.\n",
      "For more information, please see:\n",
      "  * https://github.com/tensorflow/community/blob/master/rfcs/20180907-contrib-sunset.md\n",
      "  * https://github.com/tensorflow/addons\n",
      "  * https://github.com/tensorflow/io (for I/O related ops)\n",
      "If you depend on functionality not listed there, please file an issue.\n",
      "\n",
      "LM failed to improve, on step 8, loss: 1.57e-01\n",
      "\n",
      "CPU times: user 5.32 s, sys: 1.27 s, total: 6.59 s\n",
      "Wall time: 9.58 s\n"
     ]
    }
   ],
   "source": [
    "%%time\n",
    "history, p = lwmw.levmarq(\n",
    "    settings, \n",
    "    x_train=metrics.values[:,:-5], \n",
    "    y_train=metrics.values[:,-5:], \n",
    "    mu_init=5.0, \n",
    "    min_error=8.33e-4, \n",
    "    max_steps=500, \n",
    "    mu_multiply=10, \n",
    "    mu_divide=10, \n",
    "    m_into_epoch=10, \n",
    "    verbose=True\n",
    ")"
   ]
  },
  {
   "cell_type": "code",
   "execution_count": 16,
   "metadata": {},
   "outputs": [
    {
     "data": {
      "image/png": "[encoded data removed]",
      "text/plain": [
       "<Figure size 1296x432 with 1 Axes>"
      ]
     },
     "metadata": {
      "needs_background": "light"
     },
     "output_type": "display_data"
    }
   ],
   "source": [
    "plt.figure(figsize=(18,6))\n",
    "plt.plot([10 * np.log10(8.33e-4 / history[0])] * len(history), \"r--\", label=\"Критерий останова\")\n",
    "plt.plot(10 * np.log10(history / history[0]), label = \"Левенберг-Марквардт\")\n",
    "plt.xlabel(\"Эпохи обучения\")\n",
    "plt.ylabel(\"Ошибка, дБ\")\n",
    "plt.xlim([0,len(history)])\n",
    "plt.title(f\"Ошибка обучения на обучающей выборке\")\n",
    "plt.legend(loc='upper right')\n",
    "plt.show()"
   ]
  }
 ],
 "metadata": {
  "kernelspec": {
   "display_name": "Python 3",
   "language": "python",
   "name": "python3"
  },
  "language_info": {
   "codemirror_mode": {
    "name": "ipython",
    "version": 3
   },
   "file_extension": ".py",
   "mimetype": "text/x-python",
   "name": "python",
   "nbconvert_exporter": "python",
   "pygments_lexer": "ipython3",
   "version": "3.7.6"
  }
 },
 "nbformat": 4,
 "nbformat_minor": 4
}
