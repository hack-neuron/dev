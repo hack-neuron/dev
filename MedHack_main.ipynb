{
 "cells": [
  {
   "cell_type": "code",
   "execution_count": 1,
   "metadata": {},
   "outputs": [],
   "source": [
    "import pandas as pd\n",
    "\n",
    "import numpy as np\n",
    "\n",
    "from numba import cuda\n",
    "\n",
    "import pickle\n",
    "\n",
    "import os\n",
    "\n",
    "import cv2\n",
    "\n",
    "from pycm import ConfusionMatrix\n",
    "\n",
    "import time\n",
    "\n",
    "import lwmw\n",
    "\n",
    "import seaborn as sns"
   ]
  },
  {
   "cell_type": "code",
   "execution_count": 2,
   "metadata": {},
   "outputs": [
    {
     "name": "stdout",
     "output_type": "stream",
     "text": [
      "Populating the interactive namespace from numpy and matplotlib\n"
     ]
    }
   ],
   "source": [
    "%pylab inline"
   ]
  },
  {
   "cell_type": "markdown",
   "metadata": {},
   "source": [
    "## Грузим данные \n",
    "\n",
    "1. Таблички"
   ]
  },
  {
   "cell_type": "code",
   "execution_count": 3,
   "metadata": {},
   "outputs": [],
   "source": [
    "a = os.listdir(\"Dataset/Origin/\")\n",
    "b = os.listdir(\"Dataset/Expert/\")\n",
    "c = os.listdir(\"Dataset/sample_1/\")\n",
    "d = os.listdir(\"Dataset/sample_2/\")\n",
    "e = os.listdir(\"Dataset/sample_3/\")"
   ]
  },
  {
   "cell_type": "code",
   "execution_count": 4,
   "metadata": {},
   "outputs": [],
   "source": [
    "open_part = pd.read_csv(\"Dataset/OpenPart.csv\")\n",
    "shapes = pd.read_csv(\"Dataset/DX_TEST_RESULT_FULL.csv\")"
   ]
  },
  {
   "cell_type": "code",
   "execution_count": 5,
   "metadata": {},
   "outputs": [],
   "source": [
    "a = [x.split(\"_\")[0] + \"_\" + x.split(\"_\")[1].split(\".\")[0] for x in a]\n",
    "b = [x.split(\"_\")[0] + \"_\" + x.split(\"_\")[1] for x in b]\n",
    "c = [x.split(\"_\")[0] + \"_\" + x.split(\"_\")[1] for x in c]\n",
    "e = [x.split(\"_\")[0] + \"_\" + x.split(\"_\")[1] for x in e]\n",
    "f = [x.split(\"_\")[0] + \"_\" + x.split(\"_\")[1].split(\".\")[0] for x in list(open_part.Case.values)]"
   ]
  },
  {
   "cell_type": "code",
   "execution_count": 6,
   "metadata": {},
   "outputs": [
    {
     "name": "stdout",
     "output_type": "stream",
     "text": [
      "Соотносящихся элементов: 60\n"
     ]
    }
   ],
   "source": [
    "#проверка совпадения имен файлов\n",
    "print(f\"Соотносящихся элементов: {len(list(set(a) & set(b) & set(c) & set(e) & set(f)))}\")"
   ]
  },
  {
   "cell_type": "code",
   "execution_count": 8,
   "metadata": {},
   "outputs": [
    {
     "data": {
      "text/plain": [
       "[]"
      ]
     },
     "execution_count": 8,
     "metadata": {},
     "output_type": "execute_result"
    },
    {
     "data": {
      "image/png": "[encoded data removed]",
      "text/plain": [
       "<Figure size 1296x720 with 1 Axes>"
      ]
     },
     "metadata": {
      "needs_background": "light"
     },
     "output_type": "display_data"
    }
   ],
   "source": [
    "plt.figure(figsize=(18,10))\n",
    "ind = np.arange(1, 6)\n",
    "plt.bar(ind, open_part[\"Sample 1\"].value_counts(), label=\"Сеть 1\",  width = 0.25)\n",
    "plt.bar(ind + 0.25, open_part[\"Sample 2\"].value_counts(), label=\"Сеть 2\",  width = 0.25)\n",
    "plt.bar(ind + 0.50, open_part[\"Sample 3\"].value_counts(), label=\"Сеть 3\",  width = 0.25)\n",
    "plt.legend(loc=\"upper right\")\n",
    "plt.plot()"
   ]
  },
  {
   "cell_type": "markdown",
   "metadata": {},
   "source": [
    "2. Изображения"
   ]
  },
  {
   "cell_type": "code",
   "execution_count": 9,
   "metadata": {},
   "outputs": [],
   "source": [
    "samples = {}\n",
    "\n",
    "for sample in range(1,4):\n",
    "    temp_names = os.listdir(f\"Dataset/sample_{sample}/\")\n",
    "    img_buffer = []\n",
    "    for img_name in temp_names:\n",
    "        img_buffer.append(cv2.imread(f\"Dataset/sample_{sample}/{img_name}\") / 255.0)\n",
    "    samples[f\"sample_{sample}\"] = img_buffer"
   ]
  },
  {
   "cell_type": "code",
   "execution_count": 10,
   "metadata": {},
   "outputs": [
    {
     "name": "stdout",
     "output_type": "stream",
     "text": [
      "100 100 100\n"
     ]
    }
   ],
   "source": [
    "print(len(samples[\"sample_1\"]), len(samples[\"sample_2\"]), len(samples[\"sample_3\"]))"
   ]
  },
  {
   "cell_type": "code",
   "execution_count": 11,
   "metadata": {},
   "outputs": [],
   "source": [
    "origin = []\n",
    "\n",
    "temp_names = os.listdir(f\"Dataset/Origin/\")\n",
    "for img_name in temp_names:\n",
    "    origin.append(cv2.imread(f\"Dataset/Origin/{img_name}\") / 255.0)"
   ]
  },
  {
   "cell_type": "code",
   "execution_count": 12,
   "metadata": {},
   "outputs": [
    {
     "name": "stdout",
     "output_type": "stream",
     "text": [
      "100\n"
     ]
    }
   ],
   "source": [
    "print(len(origin))"
   ]
  },
  {
   "cell_type": "code",
   "execution_count": 13,
   "metadata": {},
   "outputs": [],
   "source": [
    "expert = []\n",
    "\n",
    "temp_names = os.listdir(f\"Dataset/Expert/\")\n",
    "for img_name in temp_names:\n",
    "    expert.append(cv2.imread(f\"Dataset/Expert/{img_name}\") / 255.0)\n",
    "del temp_names"
   ]
  },
  {
   "cell_type": "code",
   "execution_count": 14,
   "metadata": {},
   "outputs": [
    {
     "name": "stdout",
     "output_type": "stream",
     "text": [
      "100\n"
     ]
    }
   ],
   "source": [
    "print(len(expert))"
   ]
  },
  {
   "cell_type": "markdown",
   "metadata": {},
   "source": [
    "Сопоставляем имена и названия файлов"
   ]
  },
  {
   "cell_type": "code",
   "execution_count": 15,
   "metadata": {},
   "outputs": [
    {
     "name": "stdout",
     "output_type": "stream",
     "text": [
      "Проверка масок, Оригинальных изображений\n",
      "Форма в разметке не совпадает в 0 случаев\n"
     ]
    }
   ],
   "source": [
    "print(\"Проверка масок, Оригинальных изображений\")\n",
    "mismatch = 0\n",
    "\n",
    "for sample in samples.keys():\n",
    "    for img in range(len(samples[sample])):\n",
    "        if samples[sample][img].shape != samples[sample][img].shape:\n",
    "            mismatch += 1\n",
    "            \n",
    "for orig in range(len(origin)):\n",
    "    if origin[orig].shape != origin[0].shape:\n",
    "        mismatch += 1\n",
    "    \n",
    "for exp in range(len(expert)):\n",
    "    if expert[exp].shape != expert[0].shape:\n",
    "        mismatch += 1\n",
    "    \n",
    "print(f\"Форма в разметке не совпадает в {mismatch} случаев\")"
   ]
  },
  {
   "cell_type": "markdown",
   "metadata": {},
   "source": [
    "Проверка на \"нулевые\" картинки"
   ]
  },
  {
   "cell_type": "code",
   "execution_count": 16,
   "metadata": {},
   "outputs": [
    {
     "name": "stdout",
     "output_type": "stream",
     "text": [
      "Пустой разметки от эксперта 9\n"
     ]
    }
   ],
   "source": [
    "clear = 0\n",
    "for img in expert:\n",
    "    if img.sum() == 0:\n",
    "        clear += 1\n",
    "print(f\"Пустой разметки от эксперта {clear}\")"
   ]
  },
  {
   "cell_type": "markdown",
   "metadata": {},
   "source": [
    "## == Считаем Метрики =="
   ]
  },
  {
   "cell_type": "code",
   "execution_count": 17,
   "metadata": {},
   "outputs": [],
   "source": [
    "def pixel_accuracy(nn, expert):\n",
    "    return sum(nn * expert) / (sum(expert))\n",
    "\n",
    "def Jaccard(nn, expert):\n",
    "    return sum(nn * expert) / (sum(nn) + sum(expert) - sum(nn * expert))\n",
    "\n",
    "def Sorensen(nn, expert):\n",
    "    return (2 * sum(nn * expert)) / (sum(nn) + sum(expert))\n",
    "\n",
    "def Kulchinski(nn, expert):\n",
    "    return ((sum(nn * expert)) / 2) * (1 / sum(nn) + 1 / sum(expert))\n",
    "\n",
    "def Simpson(nn, expert):\n",
    "    return (2 * sum(nn * expert)) / (sum(nn) + sum(expert) - abs(sum(nn) - sum(expert)))\n",
    "\n",
    "def Braun(nn, expert):\n",
    "    return (2 * sum(nn * expert)) / (sum(nn) + sum(expert) + abs(sum(nn) - sum(expert)))"
   ]
  },
  {
   "cell_type": "code",
   "execution_count": 18,
   "metadata": {},
   "outputs": [
    {
     "name": "stderr",
     "output_type": "stream",
     "text": [
      "/home/gpu/miniconda3/lib/python3.7/site-packages/ipykernel_launcher.py:11: RuntimeWarning: divide by zero encountered in double_scalars\n",
      "  # This is added back by InteractiveShellApp.init_path()\n",
      "/home/gpu/miniconda3/lib/python3.7/site-packages/ipykernel_launcher.py:11: RuntimeWarning: invalid value encountered in double_scalars\n",
      "  # This is added back by InteractiveShellApp.init_path()\n",
      "/home/gpu/miniconda3/lib/python3.7/site-packages/ipykernel_launcher.py:14: RuntimeWarning: invalid value encountered in double_scalars\n",
      "  \n",
      "/home/gpu/miniconda3/lib/python3.7/site-packages/ipykernel_launcher.py:2: RuntimeWarning: invalid value encountered in double_scalars\n",
      "  \n"
     ]
    }
   ],
   "source": [
    "temp_names = os.listdir(\"Dataset/sample_3/\")\n",
    "metrics = pd.DataFrame()\n",
    "for i in range(len(expert)):\n",
    "    temp_overal = ConfusionMatrix(actual_vector=expert[i].ravel(),predict_vector=samples[\"sample_3\"][i].ravel())\n",
    "    temp_metrics = {  \"name\": temp_names[i],\n",
    "                      \"PA\": pixel_accuracy(samples[\"sample_3\"][i], expert[i]),\n",
    "                      \"Jaccard\": Jaccard(samples[\"sample_3\"][i], expert[i]),\n",
    "                      \"Sorensen\": Sorensen(samples[\"sample_3\"][i], expert[i]),\n",
    "                      \"Kulchinski\": Kulchinski(samples[\"sample_3\"][i], expert[i]),\n",
    "                      \"Simpson\": Simpson(samples[\"sample_3\"][i], expert[i]),\n",
    "                      \"Braun_Blanke\": Braun(samples[\"sample_3\"][i], expert[i])\n",
    "                   }\n",
    "    temp_overal = temp_overal.overall_stat\n",
    "    for j in temp_overal.keys():\n",
    "        temp_metrics[j] = temp_overal[j]\n",
    "        \n",
    "    metrics = metrics.append(temp_metrics, ignore_index=True)"
   ]
  },
  {
   "cell_type": "code",
   "execution_count": 8,
   "metadata": {},
   "outputs": [
    {
     "ename": "NameError",
     "evalue": "name 'metrics' is not defined",
     "output_type": "error",
     "traceback": [
      "\u001b[0;31m---------------------------------------------------------------------------\u001b[0m",
      "\u001b[0;31mNameError\u001b[0m                                 Traceback (most recent call last)",
      "\u001b[0;32m<ipython-input-8-8d20d28c1a5f>\u001b[0m in \u001b[0;36m<module>\u001b[0;34m\u001b[0m\n\u001b[0;32m----> 1\u001b[0;31m \u001b[0mmetrics\u001b[0m \u001b[0;34m=\u001b[0m \u001b[0mmetrics\u001b[0m\u001b[0;34m.\u001b[0m\u001b[0mdrop\u001b[0m\u001b[0;34m(\u001b[0m\u001b[0mcolumns\u001b[0m\u001b[0;34m=\u001b[0m\u001b[0;34m[\u001b[0m\u001b[0;34m\"95% CI\"\u001b[0m\u001b[0;34m,\u001b[0m \u001b[0;34m\"P-Value\"\u001b[0m\u001b[0;34m,\u001b[0m \u001b[0;34m\"Kappa 95% CI\"\u001b[0m\u001b[0;34m,\u001b[0m \u001b[0;34m\"Overall J\"\u001b[0m\u001b[0;34m,\u001b[0m \u001b[0;34m\"SOA4(Cicchetti)\"\u001b[0m\u001b[0;34m,\u001b[0m \u001b[0;34m\"SOA1(Landis & Koch)\"\u001b[0m\u001b[0;34m,\u001b[0m \u001b[0;34m\"SOA2(Fleiss)\"\u001b[0m\u001b[0;34m,\u001b[0m \u001b[0;34m\"SOA3(Altman)\"\u001b[0m\u001b[0;34m,\u001b[0m \u001b[0;34m\"SOA4(Cicchetti)\"\u001b[0m\u001b[0;34m,\u001b[0m \u001b[0;34m\"SOA5(Cramer)\"\u001b[0m\u001b[0;34m,\u001b[0m \u001b[0;34m\"SOA6(Matthews)\"\u001b[0m\u001b[0;34m,\u001b[0m \u001b[0;34m\"Zero-one Loss\"\u001b[0m\u001b[0;34m,\u001b[0m \u001b[0;34m\"Chi-Squared DF\"\u001b[0m\u001b[0;34m,\u001b[0m \u001b[0;34m\"RR\"\u001b[0m\u001b[0;34m]\u001b[0m\u001b[0;34m)\u001b[0m\u001b[0;34m\u001b[0m\u001b[0;34m\u001b[0m\u001b[0m\n\u001b[0m\u001b[1;32m      2\u001b[0m \u001b[0mmetrics\u001b[0m \u001b[0;34m=\u001b[0m \u001b[0mmetrics\u001b[0m\u001b[0;34m.\u001b[0m\u001b[0mreplace\u001b[0m\u001b[0;34m(\u001b[0m\u001b[0mto_replace\u001b[0m\u001b[0;34m=\u001b[0m\u001b[0;34m'None'\u001b[0m\u001b[0;34m,\u001b[0m \u001b[0mvalue\u001b[0m\u001b[0;34m=\u001b[0m\u001b[0mnp\u001b[0m\u001b[0;34m.\u001b[0m\u001b[0mnan\u001b[0m\u001b[0;34m)\u001b[0m\u001b[0;34m.\u001b[0m\u001b[0mdropna\u001b[0m\u001b[0;34m(\u001b[0m\u001b[0maxis\u001b[0m\u001b[0;34m=\u001b[0m\u001b[0;34m\"columns\"\u001b[0m\u001b[0;34m)\u001b[0m\u001b[0;34m\u001b[0m\u001b[0;34m\u001b[0m\u001b[0m\n",
      "\u001b[0;31mNameError\u001b[0m: name 'metrics' is not defined"
     ]
    }
   ],
   "source": [
    "metrics = metrics.drop(columns=[\"95% CI\", \"P-Value\", \"Kappa 95% CI\", \"Overall J\", \"SOA4(Cicchetti)\", \"SOA1(Landis & Koch)\", \"SOA2(Fleiss)\", \"SOA3(Altman)\", \"SOA4(Cicchetti)\", \"SOA5(Cramer)\", \"SOA6(Matthews)\", \"Zero-one Loss\", \"Chi-Squared DF\", \"RR\"])\n",
    "metrics = metrics.replace(to_replace='None', value=np.nan).dropna(axis=\"columns\")"
   ]
  },
  {
   "cell_type": "markdown",
   "metadata": {},
   "source": [
    "### Данные для одной сети\n",
    "чистим данные и соотносим их с csv"
   ]
  },
  {
   "cell_type": "code",
   "execution_count": 20,
   "metadata": {},
   "outputs": [],
   "source": [
    "string = metrics.name[0].split(\"_\")[0] + \"_\" + metrics.name[0].split(\"_\")[1]\n",
    "expert_index = list(set(metrics.name.str.split(\"_\").str[0] + \"_\" + metrics.name.str.split(\"_\").str[1]) & set(f))\n",
    "metrics.name = metrics.name.str.split(\"_\").str[0] + \"_\" + metrics.name.str.split(\"_\").str[1]\n",
    "metrics = metrics[metrics.name.isin(expert_index)]\n",
    "metrics = metrics.set_index(\"name\")\n",
    "metrics = metrics.sort_index()\n",
    "open_part.Case = open_part.Case.str.split(\"_\").str[0] + \"_\" + open_part.Case.str.split(\"_\").str[1].str.split(\".\").str[0]\n",
    "open_part = open_part.set_index(\"Case\")\n",
    "open_part = open_part.sort_index()\n",
    "metrics[\"expert\"] = open_part[\"Sample 3\"]\n",
    "metrics = metrics.join(pd.get_dummies(metrics['expert']))\n",
    "metrics = metrics.drop(columns=[\"expert\"]).rename(columns={1 : \"mark_1\", 2 : \"mark_2\", 3 : \"mark_3\", 4 : \"mark_4\", 5 : \"mark_5\"})"
   ]
  },
  {
   "cell_type": "markdown",
   "metadata": {},
   "source": [
    "### Дамп метрик и их чтение"
   ]
  },
  {
   "cell_type": "code",
   "execution_count": 21,
   "metadata": {},
   "outputs": [],
   "source": [
    "#metrics.to_csv(\"metrics100_3.csv\", index=False)"
   ]
  },
  {
   "cell_type": "code",
   "execution_count": 7,
   "metadata": {},
   "outputs": [],
   "source": [
    "metrics = pd.read_csv(\"metrics100_1.csv\")"
   ]
  },
  {
   "cell_type": "code",
   "execution_count": 8,
   "metadata": {},
   "outputs": [],
   "source": [
    "metrics = metrics.append(pd.read_csv(\"metrics100_2.csv\")).append(pd.read_csv(\"metrics100_3.csv\"))"
   ]
  },
  {
   "cell_type": "markdown",
   "metadata": {},
   "source": [
    "### Склеиваем таблицы метрик"
   ]
  },
  {
   "cell_type": "code",
   "execution_count": 8,
   "metadata": {},
   "outputs": [],
   "source": [
    "corr = metrics[metrics.columns[:-5]].corr()"
   ]
  },
  {
   "cell_type": "code",
   "execution_count": 11,
   "metadata": {},
   "outputs": [
    {
     "data": {
      "image/png": "[encoded data removed]",
      "text/plain": [
       "<Figure size 1440x1440 with 2 Axes>"
      ]
     },
     "metadata": {
      "needs_background": "light"
     },
     "output_type": "display_data"
    }
   ],
   "source": [
    "fig, ax = plt.subplots(1, figsize=(20,20))\n",
    "sns.heatmap(corr, ax=ax, cmap=\"Greens\")\n",
    "plt.savefig(\"corr.png\", dpi=300)\n",
    "plt.show()"
   ]
  },
  {
   "cell_type": "markdown",
   "metadata": {},
   "source": [
    "## Данные для всех сетей"
   ]
  },
  {
   "cell_type": "markdown",
   "metadata": {},
   "source": [
    "## Учим нашу сеть"
   ]
  },
  {
   "cell_type": "code",
   "execution_count": 9,
   "metadata": {},
   "outputs": [],
   "source": [
    "settings = {\n",
    "    \"outs\" : 5,\n",
    "    \"input_len\" : len(metrics),\n",
    "    \"architecture\" : [31,18],\n",
    "    \"inputs\" : len(metrics.columns) - 5,\n",
    "    \"activation\" : \"sigmoid\",\n",
    "    \"gpu_name\": \"/gpu:1\"\n",
    "}"
   ]
  },
  {
   "cell_type": "markdown",
   "metadata": {},
   "source": [
    "## ==== ВЫБИРАЕМ АРХИТЕКТУРУ! ===="
   ]
  },
  {
   "cell_type": "code",
   "execution_count": 10,
   "metadata": {},
   "outputs": [],
   "source": [
    "with open('settings.pickle', 'wb') as f:\n",
    "    pickle.dump(settings, f)"
   ]
  },
  {
   "cell_type": "code",
   "execution_count": 7,
   "metadata": {},
   "outputs": [
    {
     "name": "stdout",
     "output_type": "stream",
     "text": [
      "=====>Training info<===== \n",
      "\n",
      "Settings: \n",
      "         outs:5\n",
      "         input_len:180\n",
      "         architecture:[31, 18]\n",
      "         inputs:36\n",
      "         activation:sigmoid\n",
      "         gpu_name:/gpu:1\n",
      "\n",
      "tf version:  1.15.0 \n",
      "\n",
      "shape X:\t(180, 36)\n",
      "shape y:\t(180, 5)\n",
      "      m:\t180\n",
      "      p:\t5\n",
      "\n",
      "\n",
      "Complex:\n",
      "        [parameters]x[data lenth]\n",
      "        1818x180\n",
      "\n",
      "WARNING:tensorflow:\n",
      "The TensorFlow contrib module will not be included in TensorFlow 2.0.\n",
      "For more information, please see:\n",
      "  * https://github.com/tensorflow/community/blob/master/rfcs/20180907-contrib-sunset.md\n",
      "  * https://github.com/tensorflow/addons\n",
      "  * https://github.com/tensorflow/io (for I/O related ops)\n",
      "If you depend on functionality not listed there, please file an issue.\n",
      "\n",
      "CPU times: user 1.27 s, sys: 759 ms, total: 2.03 s\n",
      "Wall time: 2.18 s\n"
     ]
    }
   ],
   "source": [
    "%%time\n",
    "history, p = lwmw.levmarq(\n",
    "    settings, \n",
    "    x_train=metrics.values[:,:-5], \n",
    "    y_train=metrics.values[:,-5:], \n",
    "    mu_init=5.0, \n",
    "    min_error=2.8e-4, \n",
    "    max_steps=500, \n",
    "    mu_multiply=10, \n",
    "    mu_divide=10, \n",
    "    m_into_epoch=10, \n",
    "    verbose=True\n",
    ")"
   ]
  },
  {
   "cell_type": "code",
   "execution_count": 18,
   "metadata": {},
   "outputs": [
    {
     "ename": "NameError",
     "evalue": "name 'history' is not defined",
     "output_type": "error",
     "traceback": [
      "\u001b[0;31m---------------------------------------------------------------------------\u001b[0m",
      "\u001b[0;31mNameError\u001b[0m                                 Traceback (most recent call last)",
      "\u001b[0;32m<ipython-input-18-551f64f0fb49>\u001b[0m in \u001b[0;36m<module>\u001b[0;34m\u001b[0m\n\u001b[1;32m      1\u001b[0m \u001b[0mplt\u001b[0m\u001b[0;34m.\u001b[0m\u001b[0mfigure\u001b[0m\u001b[0;34m(\u001b[0m\u001b[0mfigsize\u001b[0m\u001b[0;34m=\u001b[0m\u001b[0;34m(\u001b[0m\u001b[0;36m18\u001b[0m\u001b[0;34m,\u001b[0m\u001b[0;36m6\u001b[0m\u001b[0;34m)\u001b[0m\u001b[0;34m)\u001b[0m\u001b[0;34m\u001b[0m\u001b[0;34m\u001b[0m\u001b[0m\n\u001b[0;32m----> 2\u001b[0;31m \u001b[0mplt\u001b[0m\u001b[0;34m.\u001b[0m\u001b[0mplot\u001b[0m\u001b[0;34m(\u001b[0m\u001b[0;34m[\u001b[0m\u001b[0;36m10\u001b[0m \u001b[0;34m*\u001b[0m \u001b[0mnp\u001b[0m\u001b[0;34m.\u001b[0m\u001b[0mlog10\u001b[0m\u001b[0;34m(\u001b[0m\u001b[0;36m2.8e-4\u001b[0m\u001b[0;34m)\u001b[0m\u001b[0;34m]\u001b[0m \u001b[0;34m*\u001b[0m \u001b[0mlen\u001b[0m\u001b[0;34m(\u001b[0m\u001b[0mhistory\u001b[0m\u001b[0;34m)\u001b[0m\u001b[0;34m,\u001b[0m \u001b[0;34m\"r--\"\u001b[0m\u001b[0;34m,\u001b[0m \u001b[0mlabel\u001b[0m\u001b[0;34m=\u001b[0m\u001b[0;34m\"Критерий останова\"\u001b[0m\u001b[0;34m)\u001b[0m\u001b[0;34m\u001b[0m\u001b[0;34m\u001b[0m\u001b[0m\n\u001b[0m\u001b[1;32m      3\u001b[0m \u001b[0mplt\u001b[0m\u001b[0;34m.\u001b[0m\u001b[0mplot\u001b[0m\u001b[0;34m(\u001b[0m\u001b[0;36m10\u001b[0m \u001b[0;34m*\u001b[0m \u001b[0mnp\u001b[0m\u001b[0;34m.\u001b[0m\u001b[0mlog10\u001b[0m\u001b[0;34m(\u001b[0m\u001b[0mhistory\u001b[0m\u001b[0;34m)\u001b[0m\u001b[0;34m,\u001b[0m \u001b[0mlabel\u001b[0m \u001b[0;34m=\u001b[0m \u001b[0;34m\"Левенберг-Марквардт\"\u001b[0m\u001b[0;34m)\u001b[0m\u001b[0;34m\u001b[0m\u001b[0;34m\u001b[0m\u001b[0m\n\u001b[1;32m      4\u001b[0m \u001b[0mplt\u001b[0m\u001b[0;34m.\u001b[0m\u001b[0mxlabel\u001b[0m\u001b[0;34m(\u001b[0m\u001b[0;34m\"Эпохи обучения\"\u001b[0m\u001b[0;34m)\u001b[0m\u001b[0;34m\u001b[0m\u001b[0;34m\u001b[0m\u001b[0m\n\u001b[1;32m      5\u001b[0m \u001b[0mplt\u001b[0m\u001b[0;34m.\u001b[0m\u001b[0mylabel\u001b[0m\u001b[0;34m(\u001b[0m\u001b[0;34m\"Ошибка, дБ\"\u001b[0m\u001b[0;34m)\u001b[0m\u001b[0;34m\u001b[0m\u001b[0;34m\u001b[0m\u001b[0m\n",
      "\u001b[0;31mNameError\u001b[0m: name 'history' is not defined"
     ]
    },
    {
     "data": {
      "text/plain": [
       "<Figure size 1296x432 with 0 Axes>"
      ]
     },
     "metadata": {},
     "output_type": "display_data"
    }
   ],
   "source": [
    "plt.figure(figsize=(18,6))\n",
    "plt.plot([10 * np.log10(2.8e-4)] * len(history), \"r--\", label=\"Критерий останова\")\n",
    "plt.plot(10 * np.log10(history), label = \"Левенберг-Марквардт\")\n",
    "plt.xlabel(\"Эпохи обучения\")\n",
    "plt.ylabel(\"Ошибка, дБ\")\n",
    "plt.xlim([0,len(history)])\n",
    "plt.title(f\"Ошибка обучения на обучающей выборке\")\n",
    "plt.legend(loc='upper right')\n",
    "plt.show()"
   ]
  },
  {
   "cell_type": "markdown",
   "metadata": {},
   "source": [
    "### Переинициализации"
   ]
  },
  {
   "cell_type": "code",
   "execution_count": 33,
   "metadata": {},
   "outputs": [],
   "source": [
    "with open('/home/gpu/lab/medical_research/arch_dump_large_22/many_hist.pickle', 'rb') as f:\n",
    "    hist_many = pickle.load(f)"
   ]
  },
  {
   "cell_type": "code",
   "execution_count": 35,
   "metadata": {},
   "outputs": [
    {
     "data": {
      "text/plain": [
       "dict_keys([0, 1, 2, 3, 4, 5, 6])"
      ]
     },
     "execution_count": 35,
     "metadata": {},
     "output_type": "execute_result"
    }
   ],
   "source": [
    "hist_many.keys()"
   ]
  },
  {
   "cell_type": "code",
   "execution_count": 34,
   "metadata": {},
   "outputs": [
    {
     "data": {
      "image/png": "[encoded data removed]",
      "text/plain": [
       "<Figure size 1296x432 with 1 Axes>"
      ]
     },
     "metadata": {
      "needs_background": "light"
     },
     "output_type": "display_data"
    }
   ],
   "source": [
    "plt.figure(figsize=(18,6))\n",
    "plt.plot([10 * np.log10(2.8e-4)] * 1500, \"r--\", label=\"Критерий останова\")\n",
    "for hist in hist_many.keys():\n",
    "    if hist >= 6:\n",
    "        plt.plot(10 * np.log10(hist_many[hist]), label=f\"31-18 переинит. #{hist-5}\")\n",
    "plt.xlabel(\"Эпохи обучения\")\n",
    "plt.ylabel(\"Ошибка, дБ\")\n",
    "plt.xlim([0,1500])\n",
    "plt.title(f\"Ошибка обучения на обучающей выборке (6 переобучений)\")\n",
    "plt.legend(loc=\"upper right\")\n",
    "plt.show()"
   ]
  },
  {
   "cell_type": "markdown",
   "metadata": {},
   "source": [
    "## Аналитика по градиентам"
   ]
  },
  {
   "cell_type": "code",
   "execution_count": 14,
   "metadata": {},
   "outputs": [],
   "source": [
    "with open('/home/gpu/lab/medical_research/arch_dump_large_22/p_many.pickle', 'rb') as f:\n",
    "    p_many = pickle.load(f)"
   ]
  },
  {
   "cell_type": "code",
   "execution_count": 10,
   "metadata": {},
   "outputs": [],
   "source": [
    "device = cuda.get_current_device()\n",
    "device.reset()\n",
    "settings[\"gpu_name\"] = \"/gpu:2\""
   ]
  },
  {
   "cell_type": "code",
   "execution_count": 10,
   "metadata": {},
   "outputs": [],
   "source": [
    "predicts, grads = lwmw.predict(p_many[6], settings, metrics.values[:,:-5])"
   ]
  },
  {
   "cell_type": "code",
   "execution_count": 11,
   "metadata": {},
   "outputs": [],
   "source": [
    "for i in range(0, settings[\"outs\"]):\n",
    "    metrics[\"preds_\" + str(i+1)] = predicts[:,i]\n",
    "    metrics[\"delta_\" + str(i)] = metrics[\"mark_\" + str(i+1)] - metrics[\"preds_\" + str(i+1)]"
   ]
  },
  {
   "cell_type": "code",
   "execution_count": 22,
   "metadata": {},
   "outputs": [],
   "source": [
    "grads_to_plot = np.sqrt(np.sum(grads[0]**2, axis=0) / len(grads[0])) / np.sqrt(np.sum(grads[0]**2, axis=0) / len(grads[0])).max()"
   ]
  },
  {
   "cell_type": "code",
   "execution_count": 32,
   "metadata": {},
   "outputs": [
    {
     "data": {
      "image/png": "[encoded data removed]",
      "text/plain": [
       "<Figure size 1296x432 with 1 Axes>"
      ]
     },
     "metadata": {
      "needs_background": "light"
     },
     "output_type": "display_data"
    }
   ],
   "source": [
    "plt.figure(figsize=(18,6))\n",
    "plt.bar(metrics.columns[:settings[\"inputs\"]], grads_to_plot)\n",
    "plt.xlabel(\"Признаки\")\n",
    "plt.ylabel(\"Нормированное значение градиета\")\n",
    "plt.title(f\"Значимость признаков для ИНС\")\n",
    "plt.xticks(rotation=90)\n",
    "plt.show()"
   ]
  },
  {
   "cell_type": "markdown",
   "metadata": {},
   "source": [
    "## Сырые данные в l1 меру"
   ]
  },
  {
   "cell_type": "code",
   "execution_count": 12,
   "metadata": {},
   "outputs": [],
   "source": [
    "predictions = np.argmax(metrics[[\"preds_1\", \"preds_2\", \"preds_3\", \"preds_4\", \"preds_5\"]].values, axis=1) + 1\n",
    "expert_mark = np.argmax(metrics[[\"mark_1\", \"mark_2\", \"mark_3\", \"mark_4\", \"mark_5\"]].values, axis=1) + 1"
   ]
  },
  {
   "cell_type": "code",
   "execution_count": 31,
   "metadata": {},
   "outputs": [
    {
     "name": "stdout",
     "output_type": "stream",
     "text": [
      "Ошибка для 1 выхода: 150\n",
      "Ошибка для 2 выхода: 149\n",
      "Ошибка для 3 выхода: 138\n",
      "Ошибка для 4 выхода: 147\n",
      "Ошибка для 5 выхода: 136\n"
     ]
    }
   ],
   "source": [
    "for num in range(1,6):\n",
    "    err = 0\n",
    "    for i in range(len(metrics)):\n",
    "         if (metrics[f\"preds_{num}\"].iloc[i] < 0.5) != (metrics[f\"mark_{num}\"].iloc[i]):\n",
    "            err += 1\n",
    "\n",
    "    print(f\"Ошибка для {num} выхода: {err}\")"
   ]
  },
  {
   "cell_type": "code",
   "execution_count": 26,
   "metadata": {},
   "outputs": [
    {
     "data": {
      "text/plain": [
       "mark_1    30\n",
       "mark_2    31\n",
       "mark_3    42\n",
       "mark_4    33\n",
       "mark_5    44\n",
       "dtype: int64"
      ]
     },
     "execution_count": 26,
     "metadata": {},
     "output_type": "execute_result"
    }
   ],
   "source": [
    "metrics[[\"mark_1\", \"mark_2\", \"mark_3\", \"mark_4\", \"mark_5\"]].abs().sum()"
   ]
  },
  {
   "cell_type": "code",
   "execution_count": 25,
   "metadata": {},
   "outputs": [
    {
     "data": {
      "text/plain": [
       "preds_1     8.734200\n",
       "preds_2     2.967635\n",
       "preds_3     2.881049\n",
       "preds_4    10.683311\n",
       "preds_5    13.478760\n",
       "dtype: float64"
      ]
     },
     "execution_count": 25,
     "metadata": {},
     "output_type": "execute_result"
    }
   ],
   "source": [
    "metrics[[\"preds_1\", \"preds_2\", \"preds_3\", \"preds_4\", \"preds_5\"]].abs().sum()"
   ]
  },
  {
   "cell_type": "code",
   "execution_count": 13,
   "metadata": {},
   "outputs": [
    {
     "data": {
      "text/plain": [
       "array([3, 1, 0, 0, 1, 2, 2, 2, 1, 3, 1, 2, 1, 0, 0, 1, 3, 1, 0, 2, 1, 2,\n",
       "       1, 1, 1, 1, 1, 3, 0, 0, 0, 1, 1, 2, 0, 3, 1, 0, 2, 2, 1, 2, 2, 0,\n",
       "       1, 1, 1, 2, 1, 1, 1, 1, 0, 2, 0, 1, 3, 0, 0, 1, 1, 1, 0, 0, 1, 1,\n",
       "       1, 1, 1, 0, 2, 3, 1, 1, 0, 0, 3, 1, 0, 2, 1, 2, 1, 1, 2, 1, 1, 1,\n",
       "       1, 0, 3, 3, 1, 0, 1, 1, 3, 1, 0, 1, 2, 1, 2, 0, 1, 1, 1, 3, 1, 0,\n",
       "       3, 1, 0, 1, 1, 3, 1, 1, 0, 3, 3, 1, 1, 2, 2, 3, 1, 1, 1, 3, 1, 3,\n",
       "       1, 2, 1, 1, 3, 1, 2, 1, 1, 1, 1, 3, 2, 1, 1, 1, 1, 0, 0, 1, 0, 3,\n",
       "       2, 3, 3, 2, 2, 0, 2, 1, 3, 2, 1, 1, 2, 3, 3, 0, 1, 1, 1, 3, 2, 1,\n",
       "       3, 1, 1, 3])"
      ]
     },
     "execution_count": 13,
     "metadata": {},
     "output_type": "execute_result"
    }
   ],
   "source": [
    "np.abs(predictions - expert_mark)"
   ]
  },
  {
   "cell_type": "code",
   "execution_count": 25,
   "metadata": {},
   "outputs": [
    {
     "name": "stdout",
     "output_type": "stream",
     "text": [
      "MAE: 0.0\n"
     ]
    }
   ],
   "source": [
    "err = 0\n",
    "for i in range(len(predictions)):\n",
    "    err += np.abs(expert_mark[i] - predictions[i])\n",
    "    \n",
    "err = err / len(predictions)    \n",
    "print(f\"MAE: {err}\")"
   ]
  },
  {
   "cell_type": "markdown",
   "metadata": {},
   "source": [
    "## Тест на другой сети"
   ]
  },
  {
   "cell_type": "markdown",
   "metadata": {},
   "source": [
    "## Тест на метрики"
   ]
  },
  {
   "cell_type": "code",
   "execution_count": 17,
   "metadata": {},
   "outputs": [
    {
     "name": "stdout",
     "output_type": "stream",
     "text": [
      "Ошибка для 'ACC Macro': 0.31316029866536427\n",
      "Ошибка для 'ARI': 0.5841339007198488\n",
      "Ошибка для 'Bangdiwala B': 0.3106545798918467\n",
      "Ошибка для 'Bennett S': 0.29166336483425537\n",
      "Ошибка для 'Braun_Blanke': 0.5648792478963119\n",
      "Ошибка для 'CBA': 0.2733761873382361\n",
      "Ошибка для 'Conditional Entropy': 0.389573124613811\n",
      "Ошибка для 'Cross Entropy': 0.3791970688867395\n",
      "Ошибка для 'F1 Macro': 0.2632198464765936\n",
      "Ошибка для 'F1 Micro': 0.31316029866536427\n",
      "Ошибка для 'FNR Micro': 0.52016021516588\n",
      "Ошибка для 'FPR Micro': 0.52016021516588\n",
      "Ошибка для 'Gwet AC1': 0.31121941332197633\n",
      "Ошибка для 'Hamming Loss': 0.52016021516588\n",
      "Ошибка для 'Jaccard': 0.5791634532208116\n",
      "Ошибка для 'Joint Entropy': 0.3254410093715893\n",
      "Ошибка для 'Kappa': 0.5774548162033161\n",
      "Ошибка для 'Kappa No Prevalence': 0.29166336483425537\n",
      "Ошибка для 'Kappa Standard Error': 0.6313290412476437\n",
      "Ошибка для 'Kappa Unbiased': 0.6047764948809716\n",
      "Ошибка для 'Krippendorff Alpha': 0.6047763432999407\n",
      "Ошибка для 'Mutual Information': 0.6225817802438091\n",
      "Ошибка для 'NIR': 0.33758081860012445\n",
      "Ошибка для 'Overall ACC': 0.31316029866536427\n",
      "Ошибка для 'Overall CEN': 0.38225921247059547\n",
      "Ошибка для 'Overall MCEN': 0.41936420277928704\n",
      "Ошибка для 'Overall RACC': 0.3091951777352266\n",
      "Ошибка для 'Overall RACCU': 0.308693930897242\n",
      "Ошибка для 'PPV Micro': 0.31316029866536427\n",
      "Ошибка для 'Reference Entropy': 0.4113633300175582\n",
      "Ошибка для 'Response Entropy': 0.38579259826173196\n",
      "Ошибка для 'Scott PI': 0.6047764948809716\n",
      "Ошибка для 'Sorensen': 0.5438119311758419\n",
      "Ошибка для 'Standard Error': 0.6331694766393685\n",
      "Ошибка для 'TNR Micro': 0.31316029866536427\n",
      "Ошибка для 'TPR Micro': 0.31316029866536427\n"
     ]
    }
   ],
   "source": [
    "for met in metrics.columns[:36]:\n",
    "    err = 0\n",
    "    for i in range(len(expert_mark)):\n",
    "        err += np.abs((expert_mark[i] / 5) - metrics[met].values[i])\n",
    "    err = err / len(expert_mark)\n",
    "    print(f\"Ошибка для '{met}': {err}\")"
   ]
  },
  {
   "cell_type": "code",
   "execution_count": 37,
   "metadata": {},
   "outputs": [
    {
     "name": "stdout",
     "output_type": "stream",
     "text": [
      "Ошибка для Jaccard: 2.094, не совпало 146, совпало 34\n",
      "Ошибка для Sorensen: 2.0, не совпало 143, совпало 37\n"
     ]
    }
   ],
   "source": [
    "for met in [\"Jaccard\", \"Sorensen\"]:\n",
    "    temp_met = []\n",
    "    for i in range(len(expert_mark)):\n",
    "        if metrics[met].values[i] >= 0.0 and metrics[met].values[i] <= 0.2:\n",
    "            temp_met.append(1)\n",
    "        if metrics[met].values[i] > 0.2 and metrics[met].values[i] <= 0.4:\n",
    "            temp_met.append(2)\n",
    "        if metrics[met].values[i] > 0.4 and metrics[met].values[i] <= 0.6:\n",
    "            temp_met.append(3)\n",
    "        if metrics[met].values[i] > 0.6 and metrics[met].values[i] <= 0.8:\n",
    "            temp_met.append(4)\n",
    "        if metrics[met].values[i] > 0.8 and metrics[met].values[i] <= 1.0:\n",
    "            temp_met.append(5)\n",
    "    err = 0\n",
    "    not_in = 0\n",
    "    for i in range(len(expert_mark)):\n",
    "        err += np.abs(expert_mark[i] - temp_met[i])\n",
    "        if expert_mark[i] != temp_met[i]:\n",
    "            not_in += 1\n",
    "    err = err / len(expert_mark)\n",
    "    print(f\"Ошибка для {met}: {round(err, 3)}, не совпало {not_in}, совпало {180-not_in}\")"
   ]
  },
  {
   "cell_type": "code",
   "execution_count": 42,
   "metadata": {},
   "outputs": [],
   "source": [
    "del temp_met"
   ]
  },
  {
   "cell_type": "code",
   "execution_count": 79,
   "metadata": {},
   "outputs": [],
   "source": [
    "temp_met = []\n",
    "for i in range(len(expert_mark)):\n",
    "    if metrics[\"Jaccard\"].values[i] >= 0.0 and metrics[\"Jaccard\"].values[i] <= 0.2:\n",
    "        temp_met.append(1)\n",
    "    if metrics[\"Jaccard\"].values[i] > 0.2 and metrics[\"Jaccard\"].values[i] <= 0.4:\n",
    "        temp_met.append(2)\n",
    "    if metrics[\"Jaccard\"].values[i] > 0.4 and metrics[\"Jaccard\"].values[i] <= 0.6:\n",
    "        temp_met.append(3)\n",
    "    if metrics[\"Jaccard\"].values[i] > 0.6 and metrics[\"Jaccard\"].values[i] <= 0.8:\n",
    "        temp_met.append(4)\n",
    "    if metrics[\"Jaccard\"].values[i] > 0.8 and metrics[\"Jaccard\"].values[i] <= 1.0:\n",
    "        temp_met.append(5)"
   ]
  }
 ],
 "metadata": {
  "kernelspec": {
   "display_name": "Python 3",
   "language": "python",
   "name": "python3"
  },
  "language_info": {
   "codemirror_mode": {
    "name": "ipython",
    "version": 3
   },
   "file_extension": ".py",
   "mimetype": "text/x-python",
   "name": "python",
   "nbconvert_exporter": "python",
   "pygments_lexer": "ipython3",
   "version": "3.7.6"
  }
 },
 "nbformat": 4,
 "nbformat_minor": 4
}
